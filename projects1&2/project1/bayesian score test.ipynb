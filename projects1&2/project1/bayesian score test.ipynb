{
 "cells": [
  {
   "cell_type": "code",
   "execution_count": 1,
   "id": "1b064509",
   "metadata": {},
   "outputs": [],
   "source": [
    "import pandas as pd\n",
    "import networkx as nx\n",
    "import numpy as np\n",
    "from scipy.special import loggamma"
   ]
  },
  {
   "cell_type": "code",
   "execution_count": 2,
   "id": "ab66ff9e",
   "metadata": {},
   "outputs": [],
   "source": [
    "df = pd.read_csv(\"./example/example.csv\")\n",
    "node_names = {}\n",
    "for i, name in enumerate(df.columns):\n",
    "    node_names[i] = name\n",
    "G = nx.DiGraph()\n",
    "G.add_nodes_from(range(len(df.columns)))\n",
    "G.add_edge(0, 1)\n",
    "G.add_edge(2, 3)\n",
    "G.add_edge(4, 5)"
   ]
  },
  {
   "cell_type": "code",
   "execution_count": 101,
   "id": "ea1cb62b",
   "metadata": {},
   "outputs": [],
   "source": [
    "def statistics(G, df):\n",
    "    r = df.max().to_numpy()\n",
    "    q = [np.prod([r[j] for j in preds[1]], dtype=int) for preds in G.pred.items()]\n",
    "    M = [np.zeros((q[node], r[node])) for node in G]\n",
    "    \n",
    "    prior = [np.ones((q[node], r[node])) for node in G]\n",
    "    \n",
    "    df2 = df.copy()\n",
    "    df2.columns = list(range(len(df.columns)))\n",
    "\n",
    "    for i in G:\n",
    "        parents = list(G.predecessors(i))\n",
    "        parents.append(i)\n",
    "        group = df2.groupby(parents)\n",
    "\n",
    "        series = group[i].count()\n",
    "\n",
    "        if isinstance(series.index, pd.MultiIndex):\n",
    "            multi_index = []\n",
    "            for node in reversed(parents):\n",
    "                multi_index.append([value for value in range(1, r[node]+1)])\n",
    "\n",
    "            new_index = pd.MultiIndex.from_product(multi_index)\n",
    "\n",
    "            series = series.reindex(new_index, fill_value=0)\n",
    "\n",
    "            M[i] += series.array.reshape((M[i].shape))\n",
    "        else:\n",
    "            M[i][0, :] += series.array\n",
    "            \n",
    "    return M, prior"
   ]
  },
  {
   "cell_type": "code",
   "execution_count": 102,
   "id": "60053e28",
   "metadata": {},
   "outputs": [],
   "source": [
    "def bayesian_score_component(M, alpha):\n",
    "    p = np.sum(loggamma(alpha + M))\n",
    "    p -= np.sum(loggamma(alpha))\n",
    "    p += np.sum(loggamma(np.sum(alpha, axis=1)))\n",
    "    p -= np.sum(loggamma(np.sum(alpha, axis=1) + np.sum(M, axis=1)))\n",
    "    return p\n",
    "\n",
    "def bayesian_score(G, df):\n",
    "    M, alpha = statistics(G, df)\n",
    "    return np.sum(bayesian_score_component(M[node], alpha[node]) for node in G)\n"
   ]
  },
  {
   "cell_type": "code",
   "execution_count": 103,
   "id": "1a0ec508",
   "metadata": {},
   "outputs": [
    {
     "name": "stdout",
     "output_type": "stream",
     "text": [
      "-132.02362143513778\n"
     ]
    },
    {
     "name": "stderr",
     "output_type": "stream",
     "text": [
      "/var/folders/bh/99gmfn390k967_3pnjc4y4c80000gn/T/ipykernel_17135/3287513580.py:10: DeprecationWarning: Calling np.sum(generator) is deprecated, and in the future will give a different result. Use np.sum(np.fromiter(generator)) or the python sum builtin instead.\n",
      "  return np.sum(bayesian_score_component(M[node], alpha[node]) for node in G)\n"
     ]
    }
   ],
   "source": [
    "score = bayesian_score(G, df)\n",
    "print(score)"
   ]
  },
  {
   "cell_type": "code",
   "execution_count": 29,
   "id": "2a332e2a",
   "metadata": {},
   "outputs": [],
   "source": [
    "M, alpha = statistics(G, df)"
   ]
  },
  {
   "cell_type": "code",
   "execution_count": 30,
   "id": "9b798db4",
   "metadata": {},
   "outputs": [
    {
     "data": {
      "text/plain": [
       "array([3, 3, 3, 3, 3, 3])"
      ]
     },
     "execution_count": 30,
     "metadata": {},
     "output_type": "execute_result"
    }
   ],
   "source": [
    "r = df.max().to_numpy()\n",
    "r"
   ]
  },
  {
   "cell_type": "code",
   "execution_count": 31,
   "id": "29bdd8c4",
   "metadata": {},
   "outputs": [
    {
     "data": {
      "text/plain": [
       "[1, 3, 1, 3, 1, 3]"
      ]
     },
     "execution_count": 31,
     "metadata": {},
     "output_type": "execute_result"
    }
   ],
   "source": [
    "q = [np.prod([r[j] for j in preds[1]], dtype=int) for preds in G.pred.items()]\n",
    "q"
   ]
  },
  {
   "cell_type": "code",
   "execution_count": 19,
   "id": "a4e1b31d",
   "metadata": {},
   "outputs": [],
   "source": [
    "for index, row in df.iterrows():\n",
    "    for i in G:\n",
    "        k = row[i] - 1\n",
    "        parents = list(G.predecessors(i))\n",
    "        j = 0\n",
    "        if len(parents):\n",
    "            parents_size = np.array(r)[parents]\n",
    "            coordinate = row[parents] - 1\n",
    "            j = np.ravel_multi_index(tuple(coordinate), tuple(parents_size))\n",
    "        M[i][j, k] += 1"
   ]
  },
  {
   "cell_type": "code",
   "execution_count": 99,
   "id": "41711ff8",
   "metadata": {
    "scrolled": true
   },
   "outputs": [],
   "source": [
    "M = [np.zeros((q[node], r[node])) for node in G]\n",
    "\n",
    "df2 = df.copy()\n",
    "df2.columns = list(range(len(df.columns)))\n",
    "\n",
    "for i in G:\n",
    "    parents = list(G.predecessors(i))\n",
    "    parents.append(i)\n",
    "    group = df2.groupby(parents)\n",
    "    \n",
    "    series = group[i].count()\n",
    "    \n",
    "    if isinstance(series.index, pd.MultiIndex):\n",
    "        multi_index = []\n",
    "        for node in reversed(parents):\n",
    "            multi_index.append([value for value in range(1, r[node]+1)])\n",
    "            \n",
    "        new_index = pd.MultiIndex.from_product(multi_index)\n",
    "\n",
    "        series = series.reindex(new_index, fill_value=0)\n",
    "\n",
    "        M[i] += series.array.reshape((M[i].shape))\n",
    "    else:\n",
    "        M[i][0, :] += series.array"
   ]
  },
  {
   "cell_type": "code",
   "execution_count": 77,
   "id": "6d3c2cc0",
   "metadata": {},
   "outputs": [
    {
     "data": {
      "image/png": "[encoded data removed]",
      "text/plain": [
       "<Figure size 640x480 with 1 Axes>"
      ]
     },
     "metadata": {},
     "output_type": "display_data"
    }
   ],
   "source": [
    "nx.draw(G, labels=node_names, with_labels=True)"
   ]
  },
  {
   "cell_type": "code",
   "execution_count": null,
   "id": "a91c0aaf",
   "metadata": {},
   "outputs": [],
   "source": []
  }
 ],
 "metadata": {
  "kernelspec": {
   "display_name": "Python 3",
   "language": "python",
   "name": "python3"
  },
  "language_info": {
   "codemirror_mode": {
    "name": "ipython",
    "version": 3
   },
   "file_extension": ".py",
   "mimetype": "text/x-python",
   "name": "python",
   "nbconvert_exporter": "python",
   "pygments_lexer": "ipython3",
   "version": "3.9.6 (default, Oct 18 2022, 12:41:40) \n[Clang 14.0.0 (clang-1400.0.29.202)]"
  },
  "vscode": {
   "interpreter": {
    "hash": "31f2aee4e71d21fbe5cf8b01ff0e069b9275f58929596ceb00d14d90e3e16cd6"
   }
  }
 },
 "nbformat": 4,
 "nbformat_minor": 5
}
